{
 "cells": [
  {
   "cell_type": "markdown",
   "metadata": {},
   "source": [
    "# Statistical Analysis"
   ]
  },
  {
   "cell_type": "code",
   "execution_count": 4,
   "metadata": {},
   "outputs": [],
   "source": [
    "import pandas as pd\n",
    "import tensorflow as tf\n",
    "from tensorflow.examples.tutorials.mnist import input_data"
   ]
  },
  {
   "cell_type": "code",
   "execution_count": 2,
   "metadata": {},
   "outputs": [
    {
     "name": "stdout",
     "output_type": "stream",
     "text": [
      "Successfully downloaded train-images-idx3-ubyte.gz 9912422 bytes.\n",
      "Extracting MNIST_data/train-images-idx3-ubyte.gz\n",
      "Successfully downloaded train-labels-idx1-ubyte.gz 28881 bytes.\n",
      "Extracting MNIST_data/train-labels-idx1-ubyte.gz\n",
      "Successfully downloaded t10k-images-idx3-ubyte.gz 1648877 bytes.\n",
      "Extracting MNIST_data/t10k-images-idx3-ubyte.gz\n",
      "Successfully downloaded t10k-labels-idx1-ubyte.gz 4542 bytes.\n",
      "Extracting MNIST_data/t10k-labels-idx1-ubyte.gz\n"
     ]
    }
   ],
   "source": [
    "# import data\n",
    "train_data = pd.read_csv('MNIST_train.csv', index_col='ID')\n",
    "train_data_unlabeled = train_data.drop(' Label', axis=1)\n",
    "\n",
    "mnist = input_data.read_data_sets(\"MNIST_data/\", one_hot=True)"
   ]
  },
  {
   "cell_type": "code",
   "execution_count": 8,
   "metadata": {},
   "outputs": [
    {
     "data": {
      "text/plain": [
       "60000"
      ]
     },
     "execution_count": 8,
     "metadata": {},
     "output_type": "execute_result"
    }
   ],
   "source": [
    "len(mnist.train.images)\n",
    "len(test_data)"
   ]
  },
  {
   "cell_type": "markdown",
   "metadata": {},
   "source": [
    "**Naive statistical analysis**\n",
    "Here, we just compute:\n",
    "- prediction accuracy for each number, averaged over all algorithms\n",
    "- accuracy of each algorithm\n",
    "- accuracy of each algorithm for each number"
   ]
  },
  {
   "cell_type": "code",
   "execution_count": 4,
   "metadata": {},
   "outputs": [
    {
     "name": "stdout",
     "output_type": "stream",
     "text": [
      "The median accuracy is: 0.8606042023780981.\n",
      "The mean accuracy is:   0.8670597106531208.\n"
     ]
    },
    {
     "data": {
      "text/html": [
       "<div>\n",
       "<style>\n",
       "    .dataframe thead tr:only-child th {\n",
       "        text-align: right;\n",
       "    }\n",
       "\n",
       "    .dataframe thead th {\n",
       "        text-align: left;\n",
       "    }\n",
       "\n",
       "    .dataframe tbody tr th {\n",
       "        vertical-align: top;\n",
       "    }\n",
       "</style>\n",
       "<table border=\"1\" class=\"dataframe\">\n",
       "  <thead>\n",
       "    <tr style=\"text-align: right;\">\n",
       "      <th></th>\n",
       "      <th>0</th>\n",
       "      <th>1</th>\n",
       "      <th>2</th>\n",
       "      <th>3</th>\n",
       "      <th>4</th>\n",
       "      <th>5</th>\n",
       "      <th>6</th>\n",
       "      <th>7</th>\n",
       "      <th>8</th>\n",
       "      <th>9</th>\n",
       "    </tr>\n",
       "  </thead>\n",
       "  <tbody>\n",
       "    <tr>\n",
       "      <th>percent_correct</th>\n",
       "      <td>0.897518</td>\n",
       "      <td>0.905362</td>\n",
       "      <td>0.850741</td>\n",
       "      <td>0.856436</td>\n",
       "      <td>0.864772</td>\n",
       "      <td>0.830316</td>\n",
       "      <td>0.88166</td>\n",
       "      <td>0.915099</td>\n",
       "      <td>0.822651</td>\n",
       "      <td>0.846041</td>\n",
       "    </tr>\n",
       "  </tbody>\n",
       "</table>\n",
       "</div>"
      ],
      "text/plain": [
       "                        0         1         2         3         4         5  \\\n",
       "percent_correct  0.897518  0.905362  0.850741  0.856436  0.864772  0.830316   \n",
       "\n",
       "                       6         7         8         9  \n",
       "percent_correct  0.88166  0.915099  0.822651  0.846041  "
      ]
     },
     "execution_count": 4,
     "metadata": {},
     "output_type": "execute_result"
    }
   ],
   "source": [
    "# compute average accuracy\n",
    "percent_correct = train_data\n",
    "percent_correct['percent_correct'] = train_data_unlabeled.apply(lambda row: row.sum() / 21,1)\n",
    "\n",
    "average_accuracy = pd.DataFrame(index=['percent_correct'])\n",
    "for i in range(10):\n",
    "    average_accuracy[i] = percent_correct.loc[percent_correct[' Label'] == i]['percent_correct'].mean()\n",
    "    \n",
    "print(f'The median accuracy is: {average_accuracy.median(axis=1)[0]}.')\n",
    "print(f'The mean accuracy is:   {average_accuracy.mean(axis=1)[0]}.')\n",
    "\n",
    "average_accuracy"
   ]
  },
  {
   "cell_type": "code",
   "execution_count": 7,
   "metadata": {},
   "outputs": [
    {
     "data": {
      "text/plain": [
       "ALG1     0.892033\n",
       "ALG2     0.930117\n",
       "ALG3     0.997100\n",
       "ALG4     0.929567\n",
       "ALG5     0.999133\n",
       "ALG6     0.130767\n",
       "ALG7     0.873233\n",
       "ALG8     0.160017\n",
       "ALG9     0.928833\n",
       "ALG10    0.958700\n",
       "ALG11    0.854950\n",
       "ALG12    0.927900\n",
       "ALG13    0.926367\n",
       "ALG14    1.000000\n",
       "ALG15    1.000000\n",
       "ALG16    0.886683\n",
       "ALG17    0.931333\n",
       "ALG18    0.925483\n",
       "ALG19    0.999117\n",
       "ALG20    0.983583\n",
       "ALG21    0.996517\n",
       "dtype: float64"
      ]
     },
     "execution_count": 7,
     "metadata": {},
     "output_type": "execute_result"
    }
   ],
   "source": [
    "# compute accuracy of each algorithm\n",
    "train_data_unlabeled.mean()"
   ]
  },
  {
   "cell_type": "code",
   "execution_count": 11,
   "metadata": {},
   "outputs": [
    {
     "data": {
      "text/html": [
       "<div>\n",
       "<style>\n",
       "    .dataframe thead tr:only-child th {\n",
       "        text-align: right;\n",
       "    }\n",
       "\n",
       "    .dataframe thead th {\n",
       "        text-align: left;\n",
       "    }\n",
       "\n",
       "    .dataframe tbody tr th {\n",
       "        vertical-align: top;\n",
       "    }\n",
       "</style>\n",
       "<table border=\"1\" class=\"dataframe\">\n",
       "  <thead>\n",
       "    <tr style=\"text-align: right;\">\n",
       "      <th></th>\n",
       "      <th>Label</th>\n",
       "      <th>ALG1</th>\n",
       "      <th>ALG2</th>\n",
       "      <th>ALG3</th>\n",
       "      <th>ALG4</th>\n",
       "      <th>ALG5</th>\n",
       "      <th>ALG6</th>\n",
       "      <th>ALG7</th>\n",
       "      <th>ALG8</th>\n",
       "      <th>ALG9</th>\n",
       "      <th>...</th>\n",
       "      <th>ALG13</th>\n",
       "      <th>ALG14</th>\n",
       "      <th>ALG15</th>\n",
       "      <th>ALG16</th>\n",
       "      <th>ALG17</th>\n",
       "      <th>ALG18</th>\n",
       "      <th>ALG19</th>\n",
       "      <th>ALG20</th>\n",
       "      <th>ALG21</th>\n",
       "      <th>percent_correct</th>\n",
       "    </tr>\n",
       "    <tr>\n",
       "      <th>ID</th>\n",
       "      <th></th>\n",
       "      <th></th>\n",
       "      <th></th>\n",
       "      <th></th>\n",
       "      <th></th>\n",
       "      <th></th>\n",
       "      <th></th>\n",
       "      <th></th>\n",
       "      <th></th>\n",
       "      <th></th>\n",
       "      <th></th>\n",
       "      <th></th>\n",
       "      <th></th>\n",
       "      <th></th>\n",
       "      <th></th>\n",
       "      <th></th>\n",
       "      <th></th>\n",
       "      <th></th>\n",
       "      <th></th>\n",
       "      <th></th>\n",
       "      <th></th>\n",
       "    </tr>\n",
       "  </thead>\n",
       "  <tbody>\n",
       "  </tbody>\n",
       "</table>\n",
       "<p>0 rows × 23 columns</p>\n",
       "</div>"
      ],
      "text/plain": [
       "Empty DataFrame\n",
       "Columns: [ Label, ALG1, ALG2, ALG3, ALG4, ALG5, ALG6, ALG7, ALG8, ALG9, ALG10, ALG11, ALG12, ALG13, ALG14, ALG15, ALG16, ALG17, ALG18, ALG19, ALG20, ALG21, percent_correct]\n",
       "Index: []\n",
       "\n",
       "[0 rows x 23 columns]"
      ]
     },
     "execution_count": 11,
     "metadata": {},
     "output_type": "execute_result"
    }
   ],
   "source": [
    "train_data.loc[train_data['ALG15']== 0]"
   ]
  },
  {
   "cell_type": "code",
   "execution_count": null,
   "metadata": {
    "collapsed": true
   },
   "outputs": [],
   "source": []
  }
 ],
 "metadata": {
  "kernelspec": {
   "display_name": "Python 3",
   "language": "python",
   "name": "python3"
  },
  "language_info": {
   "codemirror_mode": {
    "name": "ipython",
    "version": 3
   },
   "file_extension": ".py",
   "mimetype": "text/x-python",
   "name": "python",
   "nbconvert_exporter": "python",
   "pygments_lexer": "ipython3",
   "version": "3.5.3"
  }
 },
 "nbformat": 4,
 "nbformat_minor": 2
}
