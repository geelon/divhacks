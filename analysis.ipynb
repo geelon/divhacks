{
 "cells": [
  {
   "cell_type": "markdown",
   "metadata": {},
   "source": [
    "# Easy or Hard?"
   ]
  },
  {
   "cell_type": "code",
   "execution_count": 1,
   "metadata": {},
   "outputs": [],
   "source": [
    "%load_ext autoreload\n",
    "%autoreload 2"
   ]
  },
  {
   "cell_type": "code",
   "execution_count": 3,
   "metadata": {},
   "outputs": [],
   "source": [
    "import pandas as pd\n",
    "import tensorflow as tf\n",
    "from tensorflow.examples.tutorials.mnist import input_data\n",
    "import mlp\n",
    "\n",
    "import matplotlib.pyplot as plt"
   ]
  },
  {
   "cell_type": "code",
   "execution_count": 4,
   "metadata": {
    "scrolled": true
   },
   "outputs": [
    {
     "name": "stdout",
     "output_type": "stream",
     "text": [
      "Extracting MNIST_data/train-images-idx3-ubyte.gz\n",
      "Extracting MNIST_data/train-labels-idx1-ubyte.gz\n",
      "Extracting MNIST_data/t10k-images-idx3-ubyte.gz\n",
      "Extracting MNIST_data/t10k-labels-idx1-ubyte.gz\n"
     ]
    }
   ],
   "source": [
    "# import data\n",
    "train_data = pd.read_csv('MNIST_train.csv', index_col='ID')\n",
    "val_data   = train_data[55000:]\n",
    "train_data = train_data[:55000]\n",
    "test_data  = pd.read_csv('MNIST_test.csv', index_col='ID')\n",
    "\n",
    "train_data_unlabeled = train_data.drop(' Label', axis=1)\n",
    "val_data_unlabeled   = val_data.drop(' Label', axis=1)\n",
    "test_data_unlabeled  = test_data.drop(' Label', axis=1)\n",
    "\n",
    "mnist = input_data.read_data_sets(\"MNIST_data/\", one_hot=True)"
   ]
  },
  {
   "cell_type": "markdown",
   "metadata": {},
   "source": [
    "**Naive statistical analysis**\n",
    "Here, we just compute:\n",
    "- prediction accuracy for each number, averaged over all algorithms\n",
    "- accuracy of each algorithm\n",
    "- accuracy of each algorithm for each number"
   ]
  },
  {
   "cell_type": "code",
   "execution_count": 5,
   "metadata": {},
   "outputs": [
    {
     "data": {
      "text/html": [
       "<div>\n",
       "<style>\n",
       "    .dataframe thead tr:only-child th {\n",
       "        text-align: right;\n",
       "    }\n",
       "\n",
       "    .dataframe thead th {\n",
       "        text-align: left;\n",
       "    }\n",
       "\n",
       "    .dataframe tbody tr th {\n",
       "        vertical-align: top;\n",
       "    }\n",
       "</style>\n",
       "<table border=\"1\" class=\"dataframe\">\n",
       "  <thead>\n",
       "    <tr style=\"text-align: right;\">\n",
       "      <th></th>\n",
       "      <th>0</th>\n",
       "      <th>1</th>\n",
       "      <th>2</th>\n",
       "      <th>3</th>\n",
       "      <th>4</th>\n",
       "      <th>5</th>\n",
       "      <th>6</th>\n",
       "      <th>7</th>\n",
       "      <th>8</th>\n",
       "      <th>9</th>\n",
       "    </tr>\n",
       "  </thead>\n",
       "  <tbody>\n",
       "    <tr>\n",
       "      <th>num_correct</th>\n",
       "      <td>18.862716</td>\n",
       "      <td>19.021732</td>\n",
       "      <td>17.844648</td>\n",
       "      <td>17.967983</td>\n",
       "      <td>18.147296</td>\n",
       "      <td>17.446101</td>\n",
       "      <td>18.50975</td>\n",
       "      <td>19.20221</td>\n",
       "      <td>17.26694</td>\n",
       "      <td>17.761068</td>\n",
       "    </tr>\n",
       "  </tbody>\n",
       "</table>\n",
       "</div>"
      ],
      "text/plain": [
       "                     0          1          2          3          4          5  \\\n",
       "num_correct  18.862716  19.021732  17.844648  17.967983  18.147296  17.446101   \n",
       "\n",
       "                    6         7         8          9  \n",
       "num_correct  18.50975  19.20221  17.26694  17.761068  "
      ]
     },
     "execution_count": 5,
     "metadata": {},
     "output_type": "execute_result"
    }
   ],
   "source": [
    "# compute average accuracy\n",
    "correct = train_data\n",
    "correct['num_correct'] = train_data_unlabeled.apply(lambda row: row.sum(),1)\n",
    "\n",
    "average_accuracy = pd.DataFrame(index=['num_correct'])\n",
    "for i in range(10):\n",
    "    average_accuracy[i] = correct.loc[correct[' Label'] == i]['num_correct'].mean()\n",
    "\n",
    "average_accuracy"
   ]
  },
  {
   "cell_type": "code",
   "execution_count": 6,
   "metadata": {},
   "outputs": [
    {
     "name": "stdout",
     "output_type": "stream",
     "text": [
      "The median accuracy is: 18.057639225541912\n",
      "The mean accuracy is:   18.203044416227115\n"
     ]
    },
    {
     "data": {
      "image/png": "[encoded data removed]",
      "text/plain": [
       "<matplotlib.figure.Figure at 0x7fa0efab87b8>"
      ]
     },
     "metadata": {},
     "output_type": "display_data"
    }
   ],
   "source": [
    "print('The median accuracy is: {}'.format(average_accuracy.median(axis=1)[0]))\n",
    "print('The mean accuracy is:   {}'.format(average_accuracy.mean(axis=1)[0]))\n",
    "plt.hist(correct['num_correct'], bins=21)\n",
    "plt.show()"
   ]
  },
  {
   "cell_type": "code",
   "execution_count": 7,
   "metadata": {},
   "outputs": [
    {
     "data": {
      "text/html": [
       "<div>\n",
       "<style>\n",
       "    .dataframe thead tr:only-child th {\n",
       "        text-align: right;\n",
       "    }\n",
       "\n",
       "    .dataframe thead th {\n",
       "        text-align: left;\n",
       "    }\n",
       "\n",
       "    .dataframe tbody tr th {\n",
       "        vertical-align: top;\n",
       "    }\n",
       "</style>\n",
       "<table border=\"1\" class=\"dataframe\">\n",
       "  <thead>\n",
       "    <tr style=\"text-align: right;\">\n",
       "      <th></th>\n",
       "      <th>ALG1</th>\n",
       "      <th>ALG2</th>\n",
       "      <th>ALG3</th>\n",
       "      <th>ALG4</th>\n",
       "      <th>ALG5</th>\n",
       "      <th>ALG6</th>\n",
       "      <th>ALG7</th>\n",
       "      <th>ALG8</th>\n",
       "      <th>ALG9</th>\n",
       "      <th>ALG10</th>\n",
       "      <th>...</th>\n",
       "      <th>ALG12</th>\n",
       "      <th>ALG13</th>\n",
       "      <th>ALG14</th>\n",
       "      <th>ALG15</th>\n",
       "      <th>ALG16</th>\n",
       "      <th>ALG17</th>\n",
       "      <th>ALG18</th>\n",
       "      <th>ALG19</th>\n",
       "      <th>ALG20</th>\n",
       "      <th>ALG21</th>\n",
       "    </tr>\n",
       "  </thead>\n",
       "  <tbody>\n",
       "    <tr>\n",
       "      <th>0</th>\n",
       "      <td>0.890491</td>\n",
       "      <td>0.928382</td>\n",
       "      <td>0.997109</td>\n",
       "      <td>0.928055</td>\n",
       "      <td>0.999109</td>\n",
       "      <td>0.131473</td>\n",
       "      <td>0.871055</td>\n",
       "      <td>0.174564</td>\n",
       "      <td>0.927764</td>\n",
       "      <td>0.957655</td>\n",
       "      <td>...</td>\n",
       "      <td>0.926127</td>\n",
       "      <td>0.924655</td>\n",
       "      <td>1.0</td>\n",
       "      <td>1.0</td>\n",
       "      <td>0.885</td>\n",
       "      <td>0.929709</td>\n",
       "      <td>0.923873</td>\n",
       "      <td>0.999109</td>\n",
       "      <td>0.983309</td>\n",
       "      <td>0.996382</td>\n",
       "    </tr>\n",
       "  </tbody>\n",
       "</table>\n",
       "<p>1 rows × 21 columns</p>\n",
       "</div>"
      ],
      "text/plain": [
       "       ALG1      ALG2      ALG3      ALG4      ALG5      ALG6      ALG7  \\\n",
       "0  0.890491  0.928382  0.997109  0.928055  0.999109  0.131473  0.871055   \n",
       "\n",
       "       ALG8      ALG9     ALG10    ...        ALG12     ALG13  ALG14  ALG15  \\\n",
       "0  0.174564  0.927764  0.957655    ...     0.926127  0.924655    1.0    1.0   \n",
       "\n",
       "   ALG16     ALG17     ALG18     ALG19     ALG20     ALG21  \n",
       "0  0.885  0.929709  0.923873  0.999109  0.983309  0.996382  \n",
       "\n",
       "[1 rows x 21 columns]"
      ]
     },
     "execution_count": 7,
     "metadata": {},
     "output_type": "execute_result"
    }
   ],
   "source": [
    "# compute accuracy of each algorithm\n",
    "pd.DataFrame(train_data_unlabeled.mean()).transpose()"
   ]
  },
  {
   "cell_type": "markdown",
   "metadata": {},
   "source": [
    "## Design of Project\n",
    "Our initial goal was to build a regression model whose input is an MNIST image, and whose output predicts the percentage of algorithms that would classify it correctly (PERCENT_CORRECT). From there, we would determine a threshold to classify these images as EASY or HARD to classify. The rationale was the assumption that certain features that lead to misclassification may appear to different degrees. That is, these are not binary features. As such, it seems that we would lose information if we were to just train on EASY/HARD labels rather than PERCENT_CORRECT.\n",
    "\n",
    "However, the regression model did not converge, and given our time/compute constraints, we opted to resort to the binary classification model. Our classifier is a two-layer MLP, with hidden dimensions 1024 and 128. The results of this are shown below.\n",
    "\n",
    "## Basic Classifier\n",
    "\n",
    "Here, we create a MLP that attempts to predict the percent of classifiers that correctly classified an image. "
   ]
  },
  {
   "cell_type": "code",
   "execution_count": 61,
   "metadata": {},
   "outputs": [],
   "source": [
    "# Data\n",
    "def aggregator(row):\n",
    "    return int(row.sum() > 18)\n",
    "\n",
    "train_x = mnist.train.images\n",
    "train_y = train_data_unlabeled.apply(aggregator, axis=1).reset_index().drop('ID', axis=1)\n",
    "train_y_one_hot = tf.Session().run(tf.one_hot(train_y, 2)).reshape((-1,2))\n",
    "\n",
    "val_x = mnist.validation.images\n",
    "val_y = val_data_unlabeled.apply(aggregator,axis=1).reset_index().drop('ID', axis=1)\n",
    "val_y_one_hot = tf.Session().run(tf.one_hot(val_y, 2)).reshape((-1,2))\n",
    "\n",
    "test_x = mnist.test.images\n",
    "test_y = test_data_unlabeled.apply(aggregator, axis=1).reset_index().drop('ID', axis=1)\n",
    "test_y_one_hot = tf.Session().run(tf.one_hot(test_y, 2)).reshape((-1,2))"
   ]
  },
  {
   "cell_type": "code",
   "execution_count": 118,
   "metadata": {
    "collapsed": true
   },
   "outputs": [],
   "source": [
    "classifier = mlp.MLP(train_x, train_y_one_hot, './save', hidden_1=1024, hidden_2=128)"
   ]
  },
  {
   "cell_type": "code",
   "execution_count": 129,
   "metadata": {
    "scrolled": true
   },
   "outputs": [
    {
     "name": "stdout",
     "output_type": "stream",
     "text": [
      "INFO:tensorflow:Restoring parameters from ./save\n",
      "Optimization Finished!\n"
     ]
    }
   ],
   "source": [
    "classifier.train(training_epochs=0)"
   ]
  },
  {
   "cell_type": "code",
   "execution_count": 132,
   "metadata": {},
   "outputs": [
    {
     "name": "stdout",
     "output_type": "stream",
     "text": [
      "INFO:tensorflow:Restoring parameters from ./save\n",
      "INFO:tensorflow:Restoring parameters from ./save\n",
      "INFO:tensorflow:Restoring parameters from ./save\n",
      "Train Accuracy: 0.7108727097511292\n",
      "Val Accuracy:   0.7368000149726868\n",
      "Test Accuracy:  0.670799970626831\n"
     ]
    }
   ],
   "source": [
    "train_acc = classifier.accuracy(train_x, train_y_one_hot)\n",
    "val_acc   = classifier.accuracy(val_x, val_y_one_hot)\n",
    "test_acc  = classifier.accuracy(test_x, test_y_one_hot)\n",
    "\n",
    "print('Train Accuracy: {}'.format(train_acc))\n",
    "print('Val Accuracy:   {}'.format(val_acc))\n",
    "print('Test Accuracy:  {}'.format(test_acc))"
   ]
  },
  {
   "cell_type": "markdown",
   "metadata": {},
   "source": [
    "## Future Direction\n",
    "We saw, in the analysis of the training data, that two algorithms, ALG14 and ALG15 consistently had the correct predictions. It follows that they contribute nothing to the learner. On the other hand, ALG6 obtained a 0.131 accuracy (note that guessing at random should obtain about 0.10 accuracy). This suggests that we should take these accuracies into account when generating the EASY/HARD classification. \n",
    "\n",
    "It is unsurprising if a classifier that is near random classifies an image incorrectly, and therefore, we should take that less into account when deciding when an image is EASY/HARD. Conversely, if an algorithm that is almost always correct errs, then we should give more weight to that error.\n",
    "\n",
    "In fact, generating EASY/HARD labels using the weighted accuracies may reflect more 'real' features in the data (e.g. reducing noise from poor/near-random classifiers).\n",
    "\n",
    "We also may consider using different representations of MNIST images. Similar to word embeddings, we can take the last hidden layer of the output of a CNN (trained on the original MNIST problem of classifying digits) as the representation of the image. This may allow relevant features to be more readily accessible and tied with the EASY/HARD labels as well."
   ]
  },
  {
   "cell_type": "code",
   "execution_count": null,
   "metadata": {
    "collapsed": true
   },
   "outputs": [],
   "source": []
  }
 ],
 "metadata": {
  "kernelspec": {
   "display_name": "Python 3",
   "language": "python",
   "name": "python3"
  },
  "language_info": {
   "codemirror_mode": {
    "name": "ipython",
    "version": 3
   },
   "file_extension": ".py",
   "mimetype": "text/x-python",
   "name": "python",
   "nbconvert_exporter": "python",
   "pygments_lexer": "ipython3",
   "version": "3.5.3"
  }
 },
 "nbformat": 4,
 "nbformat_minor": 2
}
